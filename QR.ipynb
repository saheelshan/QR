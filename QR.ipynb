{
 "cells": [
  {
   "cell_type": "code",
   "execution_count": 5,
   "id": "60f91718",
   "metadata": {},
   "outputs": [
    {
     "ename": "SyntaxError",
     "evalue": "invalid syntax (160300386.py, line 1)",
     "output_type": "error",
     "traceback": [
      "\u001b[1;36m  Cell \u001b[1;32mIn[5], line 1\u001b[1;36m\u001b[0m\n\u001b[1;33m    pip install qrcode\u001b[0m\n\u001b[1;37m        ^\u001b[0m\n\u001b[1;31mSyntaxError\u001b[0m\u001b[1;31m:\u001b[0m invalid syntax\n"
     ]
    }
   ],
   "source": [
    "pip install qrcode\n",
    "\n"
   ]
  },
  {
   "cell_type": "code",
   "execution_count": 6,
   "id": "1991f007",
   "metadata": {},
   "outputs": [
    {
     "name": "stdout",
     "output_type": "stream",
     "text": [
      "Collecting qrcode[pil]Note: you may need to restart the kernel to use updated packages.\n",
      "\n",
      "  Downloading qrcode-7.4.2-py3-none-any.whl (46 kB)\n",
      "     ---------------------------------------- 0.0/46.2 kB ? eta -:--:--\n",
      "     -------- ------------------------------- 10.2/46.2 kB ? eta -:--:--\n",
      "     -------- ------------------------------- 10.2/46.2 kB ? eta -:--:--\n",
      "     ---------------- --------------------- 20.5/46.2 kB 131.3 kB/s eta 0:00:01\n",
      "     ---------------- --------------------- 20.5/46.2 kB 131.3 kB/s eta 0:00:01\n",
      "     ---------------- --------------------- 20.5/46.2 kB 131.3 kB/s eta 0:00:01\n",
      "     ------------------------- ------------ 30.7/46.2 kB 109.5 kB/s eta 0:00:01\n",
      "     --------------------------------- ---- 41.0/46.2 kB 131.3 kB/s eta 0:00:01\n",
      "     --------------------------------- ---- 41.0/46.2 kB 131.3 kB/s eta 0:00:01\n",
      "     --------------------------------- ---- 41.0/46.2 kB 131.3 kB/s eta 0:00:01\n",
      "     -------------------------------------- 46.2/46.2 kB 104.8 kB/s eta 0:00:00\n",
      "Requirement already satisfied: typing-extensions in c:\\programdata\\anaconda3\\lib\\site-packages (from qrcode[pil]) (4.7.1)\n",
      "Collecting pypng (from qrcode[pil])\n",
      "  Downloading pypng-0.20220715.0-py3-none-any.whl (58 kB)\n",
      "     ---------------------------------------- 0.0/58.1 kB ? eta -:--:--\n",
      "     ---------------------------------------- 0.0/58.1 kB ? eta -:--:--\n",
      "     ---------------------------------------- 0.0/58.1 kB ? eta -:--:--\n",
      "     --------------------- ------------------ 30.7/58.1 kB ? eta -:--:--\n",
      "     --------------------------------- ---- 51.2/58.1 kB 650.2 kB/s eta 0:00:01\n",
      "     --------------------------------- ---- 51.2/58.1 kB 650.2 kB/s eta 0:00:01\n",
      "     --------------------------------- ---- 51.2/58.1 kB 650.2 kB/s eta 0:00:01\n",
      "     --------------------------------- ---- 51.2/58.1 kB 650.2 kB/s eta 0:00:01\n",
      "     -------------------------------------- 58.1/58.1 kB 235.6 kB/s eta 0:00:00\n",
      "Requirement already satisfied: colorama in c:\\programdata\\anaconda3\\lib\\site-packages (from qrcode[pil]) (0.4.6)\n",
      "Requirement already satisfied: pillow>=9.1.0 in c:\\programdata\\anaconda3\\lib\\site-packages (from qrcode[pil]) (9.4.0)\n",
      "Installing collected packages: pypng, qrcode\n",
      "Successfully installed pypng-0.20220715.0 qrcode-7.4.2\n"
     ]
    }
   ],
   "source": [
    "pip install qrcode[pil]\n"
   ]
  },
  {
   "cell_type": "code",
   "execution_count": 9,
   "id": "aba74d40",
   "metadata": {},
   "outputs": [
    {
     "name": "stdout",
     "output_type": "stream",
     "text": [
      "QR code generated and saved as qr.png\n"
     ]
    }
   ],
   "source": [
    "import qrcode\n",
    "\n",
    "def generate_qr_code(link, filename=\"qr.png\"):\n",
    "    qr = qrcode.QRCode(\n",
    "        version=1,\n",
    "        error_correction=qrcode.constants.ERROR_CORRECT_L,\n",
    "        box_size=10,\n",
    "        border=4,\n",
    "    )\n",
    "    qr.add_data(link)\n",
    "    qr.make(fit=True)\n",
    "\n",
    "    img = qr.make_image(fill_color=\"black\", back_color=\"white\")\n",
    "    img.save(filename)\n",
    "\n",
    "if __name__ == \"__main__\":\n",
    "    link_to_encode = \"https://chat.openai.com/c/20502798-9bb5-438b-a133-c68ea9e8b2c9\"\n",
    "    output_filename = \"qr.png\"\n",
    "    \n",
    "    generate_qr_code(link_to_encode, output_filename)\n",
    "    print(f\"QR code generated and saved as {output_filename}\")\n"
   ]
  },
  {
   "cell_type": "code",
   "execution_count": null,
   "id": "d6590806",
   "metadata": {},
   "outputs": [],
   "source": []
  }
 ],
 "metadata": {
  "kernelspec": {
   "display_name": "Python 3 (ipykernel)",
   "language": "python",
   "name": "python3"
  },
  "language_info": {
   "codemirror_mode": {
    "name": "ipython",
    "version": 3
   },
   "file_extension": ".py",
   "mimetype": "text/x-python",
   "name": "python",
   "nbconvert_exporter": "python",
   "pygments_lexer": "ipython3",
   "version": "3.11.5"
  }
 },
 "nbformat": 4,
 "nbformat_minor": 5
}
